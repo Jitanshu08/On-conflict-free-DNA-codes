{
  "nbformat": 4,
  "nbformat_minor": 0,
  "metadata": {
    "colab": {
      "provenance": []
    },
    "kernelspec": {
      "name": "python3",
      "display_name": "Python 3"
    },
    "language_info": {
      "name": "python"
    }
  },
  "cells": [
    {
      "cell_type": "code",
      "source": [
        "def hamming(string1, string2): \n",
        "    # Start with a distance of zero, and count up\n",
        "    d = 0\n",
        "    # Loop over the indices of the string\n",
        "    L = len(string1)\n",
        "    for i in range(L):\n",
        "        # Add 1 to the distance if these two characters are not equal\n",
        "        if string1[i] != string2[i]:\n",
        "            d += 1\n",
        "    # Return the final count of differences\n",
        "    return d"
      ],
      "metadata": {
        "id": "v5WRbT3XYA3z"
      },
      "execution_count": 11,
      "outputs": []
    },
    {
      "cell_type": "code",
      "source": [
        "lst = []\n",
        "\n",
        "acgtString = \"ACGT\"\n",
        "strPred = \"\"\n",
        "arr = ['x','x','x','x']\n",
        "for one in range(0,4):\n",
        "    arr[0] = acgtString[one]\n",
        "    for two in range(0,4):\n",
        "        arr[1] = acgtString[two]\n",
        "        for three in range(0,4):\n",
        "            arr[2] = acgtString[three]\n",
        "            for four in range(0,4):\n",
        "                arr[3] = acgtString[four]\n",
        "                tempString = \"\"\n",
        "                for i in range(0,4):\n",
        "                    tempString = tempString + arr[i]\n",
        "                # print(tempString)\n",
        "                lst.append(tempString)\n"
      ],
      "metadata": {
        "id": "TsMbBgOrcEUy"
      },
      "execution_count": 3,
      "outputs": []
    },
    {
      "cell_type": "code",
      "source": [
        "new=[]\n",
        "count=256\n",
        "temp=count\n",
        "for i in range(0,temp):\n",
        "    flag=1\n",
        "    for j in range(0, 3):\n",
        "        if(lst[i][j] == lst[i][j+1]):\n",
        "            # print(\"if\")\n",
        "            #print(lst[i])\n",
        "            flag=0\n",
        "            count-=1\n",
        "            break\n",
        "    \n",
        "    if(flag):\n",
        "       new.append(lst[i])"
      ],
      "metadata": {
        "id": "sQ5Q2cbCbnVT"
      },
      "execution_count": 4,
      "outputs": []
    },
    {
      "cell_type": "code",
      "source": [
        "count\n",
        "new"
      ],
      "metadata": {
        "id": "_UXM61CIccAa",
        "colab": {
          "base_uri": "https://localhost:8080/"
        },
        "outputId": "e23c09d5-9b78-45d6-f98b-9eb274d4201d"
      },
      "execution_count": 5,
      "outputs": [
        {
          "output_type": "execute_result",
          "data": {
            "text/plain": [
              "['ACAC',\n",
              " 'ACAG',\n",
              " 'ACAT',\n",
              " 'ACGA',\n",
              " 'ACGC',\n",
              " 'ACGT',\n",
              " 'ACTA',\n",
              " 'ACTC',\n",
              " 'ACTG',\n",
              " 'AGAC',\n",
              " 'AGAG',\n",
              " 'AGAT',\n",
              " 'AGCA',\n",
              " 'AGCG',\n",
              " 'AGCT',\n",
              " 'AGTA',\n",
              " 'AGTC',\n",
              " 'AGTG',\n",
              " 'ATAC',\n",
              " 'ATAG',\n",
              " 'ATAT',\n",
              " 'ATCA',\n",
              " 'ATCG',\n",
              " 'ATCT',\n",
              " 'ATGA',\n",
              " 'ATGC',\n",
              " 'ATGT',\n",
              " 'CACA',\n",
              " 'CACG',\n",
              " 'CACT',\n",
              " 'CAGA',\n",
              " 'CAGC',\n",
              " 'CAGT',\n",
              " 'CATA',\n",
              " 'CATC',\n",
              " 'CATG',\n",
              " 'CGAC',\n",
              " 'CGAG',\n",
              " 'CGAT',\n",
              " 'CGCA',\n",
              " 'CGCG',\n",
              " 'CGCT',\n",
              " 'CGTA',\n",
              " 'CGTC',\n",
              " 'CGTG',\n",
              " 'CTAC',\n",
              " 'CTAG',\n",
              " 'CTAT',\n",
              " 'CTCA',\n",
              " 'CTCG',\n",
              " 'CTCT',\n",
              " 'CTGA',\n",
              " 'CTGC',\n",
              " 'CTGT',\n",
              " 'GACA',\n",
              " 'GACG',\n",
              " 'GACT',\n",
              " 'GAGA',\n",
              " 'GAGC',\n",
              " 'GAGT',\n",
              " 'GATA',\n",
              " 'GATC',\n",
              " 'GATG',\n",
              " 'GCAC',\n",
              " 'GCAG',\n",
              " 'GCAT',\n",
              " 'GCGA',\n",
              " 'GCGC',\n",
              " 'GCGT',\n",
              " 'GCTA',\n",
              " 'GCTC',\n",
              " 'GCTG',\n",
              " 'GTAC',\n",
              " 'GTAG',\n",
              " 'GTAT',\n",
              " 'GTCA',\n",
              " 'GTCG',\n",
              " 'GTCT',\n",
              " 'GTGA',\n",
              " 'GTGC',\n",
              " 'GTGT',\n",
              " 'TACA',\n",
              " 'TACG',\n",
              " 'TACT',\n",
              " 'TAGA',\n",
              " 'TAGC',\n",
              " 'TAGT',\n",
              " 'TATA',\n",
              " 'TATC',\n",
              " 'TATG',\n",
              " 'TCAC',\n",
              " 'TCAG',\n",
              " 'TCAT',\n",
              " 'TCGA',\n",
              " 'TCGC',\n",
              " 'TCGT',\n",
              " 'TCTA',\n",
              " 'TCTC',\n",
              " 'TCTG',\n",
              " 'TGAC',\n",
              " 'TGAG',\n",
              " 'TGAT',\n",
              " 'TGCA',\n",
              " 'TGCG',\n",
              " 'TGCT',\n",
              " 'TGTA',\n",
              " 'TGTC',\n",
              " 'TGTG']"
            ]
          },
          "metadata": {},
          "execution_count": 5
        }
      ]
    },
    {
      "cell_type": "code",
      "source": [
        "new1=[]\n",
        "temp=count\n",
        "for i in range(0,temp):\n",
        "    flag=0   \n",
        "    for j in range(0, 2):\n",
        "        if(new[i][j] != new[i][j+2]):\n",
        "            # print(\"if\")\n",
        "            flag=1           \n",
        "            break\n",
        "    if(flag):\n",
        "       new1.append(new[i])\n",
        "    else:\n",
        "      count-=1"
      ],
      "metadata": {
        "id": "FIxnWG87bw1i"
      },
      "execution_count": 6,
      "outputs": []
    },
    {
      "cell_type": "code",
      "source": [
        "new1"
      ],
      "metadata": {
        "id": "fvvktqGefLja",
        "colab": {
          "base_uri": "https://localhost:8080/"
        },
        "outputId": "f5ebda83-cf4c-4458-a15c-11cc6db31df0"
      },
      "execution_count": 7,
      "outputs": [
        {
          "output_type": "execute_result",
          "data": {
            "text/plain": [
              "['ACAG',\n",
              " 'ACAT',\n",
              " 'ACGA',\n",
              " 'ACGC',\n",
              " 'ACGT',\n",
              " 'ACTA',\n",
              " 'ACTC',\n",
              " 'ACTG',\n",
              " 'AGAC',\n",
              " 'AGAT',\n",
              " 'AGCA',\n",
              " 'AGCG',\n",
              " 'AGCT',\n",
              " 'AGTA',\n",
              " 'AGTC',\n",
              " 'AGTG',\n",
              " 'ATAC',\n",
              " 'ATAG',\n",
              " 'ATCA',\n",
              " 'ATCG',\n",
              " 'ATCT',\n",
              " 'ATGA',\n",
              " 'ATGC',\n",
              " 'ATGT',\n",
              " 'CACG',\n",
              " 'CACT',\n",
              " 'CAGA',\n",
              " 'CAGC',\n",
              " 'CAGT',\n",
              " 'CATA',\n",
              " 'CATC',\n",
              " 'CATG',\n",
              " 'CGAC',\n",
              " 'CGAG',\n",
              " 'CGAT',\n",
              " 'CGCA',\n",
              " 'CGCT',\n",
              " 'CGTA',\n",
              " 'CGTC',\n",
              " 'CGTG',\n",
              " 'CTAC',\n",
              " 'CTAG',\n",
              " 'CTAT',\n",
              " 'CTCA',\n",
              " 'CTCG',\n",
              " 'CTGA',\n",
              " 'CTGC',\n",
              " 'CTGT',\n",
              " 'GACA',\n",
              " 'GACG',\n",
              " 'GACT',\n",
              " 'GAGC',\n",
              " 'GAGT',\n",
              " 'GATA',\n",
              " 'GATC',\n",
              " 'GATG',\n",
              " 'GCAC',\n",
              " 'GCAG',\n",
              " 'GCAT',\n",
              " 'GCGA',\n",
              " 'GCGT',\n",
              " 'GCTA',\n",
              " 'GCTC',\n",
              " 'GCTG',\n",
              " 'GTAC',\n",
              " 'GTAG',\n",
              " 'GTAT',\n",
              " 'GTCA',\n",
              " 'GTCG',\n",
              " 'GTCT',\n",
              " 'GTGA',\n",
              " 'GTGC',\n",
              " 'TACA',\n",
              " 'TACG',\n",
              " 'TACT',\n",
              " 'TAGA',\n",
              " 'TAGC',\n",
              " 'TAGT',\n",
              " 'TATC',\n",
              " 'TATG',\n",
              " 'TCAC',\n",
              " 'TCAG',\n",
              " 'TCAT',\n",
              " 'TCGA',\n",
              " 'TCGC',\n",
              " 'TCGT',\n",
              " 'TCTA',\n",
              " 'TCTG',\n",
              " 'TGAC',\n",
              " 'TGAG',\n",
              " 'TGAT',\n",
              " 'TGCA',\n",
              " 'TGCG',\n",
              " 'TGCT',\n",
              " 'TGTA',\n",
              " 'TGTC']"
            ]
          },
          "metadata": {},
          "execution_count": 7
        }
      ]
    },
    {
      "cell_type": "code",
      "source": [
        "temp=count\n",
        "new2=[]\n",
        "for i in range(0,temp):\n",
        "    flag=0   \n",
        "    for j in range(0, 3):\n",
        "        if(new1[i][j] == 'G' and new1[i][j+1] == 'C'):\n",
        "            # print(\"if\")\n",
        "            flag=1           \n",
        "            break\n",
        "    if(flag):\n",
        "       new2.append(new1[i])\n",
        "    else:\n",
        "      count-=1"
      ],
      "metadata": {
        "id": "bk387OAVb6uq"
      },
      "execution_count": 9,
      "outputs": []
    },
    {
      "cell_type": "code",
      "source": [
        "new2"
      ],
      "metadata": {
        "colab": {
          "base_uri": "https://localhost:8080/"
        },
        "id": "dHPJYDNBfj37",
        "outputId": "9397dfaa-4cfe-42a0-9ebb-eb685d0208c6"
      },
      "execution_count": 10,
      "outputs": [
        {
          "output_type": "execute_result",
          "data": {
            "text/plain": [
              "['ACGC',\n",
              " 'AGCA',\n",
              " 'AGCG',\n",
              " 'AGCT',\n",
              " 'ATGC',\n",
              " 'CAGC',\n",
              " 'CGCA',\n",
              " 'CGCT',\n",
              " 'CTGC',\n",
              " 'GAGC',\n",
              " 'GCAC',\n",
              " 'GCAG',\n",
              " 'GCAT',\n",
              " 'GCGA',\n",
              " 'GCGT',\n",
              " 'GCTA',\n",
              " 'GCTC',\n",
              " 'GCTG',\n",
              " 'GTGC',\n",
              " 'TAGC',\n",
              " 'TCGC',\n",
              " 'TGCA',\n",
              " 'TGCG',\n",
              " 'TGCT']"
            ]
          },
          "metadata": {},
          "execution_count": 10
        }
      ]
    }
  ]
}